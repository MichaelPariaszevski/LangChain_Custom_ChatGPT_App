{
 "cells": [
  {
   "cell_type": "code",
   "execution_count": 5,
   "metadata": {},
   "outputs": [
    {
     "data": {
      "text/plain": [
       "True"
      ]
     },
     "execution_count": 5,
     "metadata": {},
     "output_type": "execute_result"
    }
   ],
   "source": [
    "from dotenv import load_dotenv, find_dotenv \n",
    "\n",
    "load_dotenv(find_dotenv(), override=True)"
   ]
  },
  {
   "cell_type": "code",
   "execution_count": 10,
   "metadata": {},
   "outputs": [
    {
     "name": "stdout",
     "output_type": "stream",
     "text": [
      "{'content': 'Bucharest is ...', 'text': 'the capital city of Romania. It is known for its elegant architecture, diverse culture, and vibrant nightlife.'}\n",
      "--------------------------------------------------\n",
      "{'content': 'Its population is ...', 'text': 'Hello! What do you mean by \"Its population is ...\" Can you please provide more context so I can better understand and continue the conversation?'}\n",
      "--------------------------------------------------\n",
      "Goodbye\n"
     ]
    }
   ],
   "source": [
    "from langchain_openai import ChatOpenAI \n",
    "from langchain.schema import SystemMessage \n",
    "from langchain.chains import LLMChain \n",
    "from langchain.prompts import ChatPromptTemplate, HumanMessagePromptTemplate \n",
    "\n",
    "llm=ChatOpenAI(model_name=\"gpt-3.5-turbo\", temperature=1) \n",
    "\n",
    "prompt=ChatPromptTemplate(\n",
    "    input_variables=[\"content\"],\n",
    "    messages=[\n",
    "        SystemMessage(content=\"Your are a chatbot having a conversation with a human.\"), \n",
    "        HumanMessagePromptTemplate.from_template(\"{content}\")\n",
    "    ]\n",
    ") \n",
    "\n",
    "chain=LLMChain(llm=llm, prompt=prompt, verbose=False) \n",
    "\n",
    "while True: \n",
    "    content=input(\"Your prompt: \") \n",
    "    if content in [\"quit\", \"exit\", \"bye\"]: \n",
    "        print(\"Goodbye\") \n",
    "        break\n",
    "    response=chain.invoke({\"content\": content}) \n",
    "    print(response)\n",
    "    print(\"-\"*50)"
   ]
  }
 ],
 "metadata": {
  "kernelspec": {
   "display_name": "LangChain_1_venv",
   "language": "python",
   "name": "python3"
  },
  "language_info": {
   "codemirror_mode": {
    "name": "ipython",
    "version": 3
   },
   "file_extension": ".py",
   "mimetype": "text/x-python",
   "name": "python",
   "nbconvert_exporter": "python",
   "pygments_lexer": "ipython3",
   "version": "3.9.19"
  }
 },
 "nbformat": 4,
 "nbformat_minor": 2
}
